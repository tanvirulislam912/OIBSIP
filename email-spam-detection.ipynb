{
 "cells": [
  {
   "cell_type": "markdown",
   "id": "bfeb9c57",
   "metadata": {
    "papermill": {
     "duration": 0.01502,
     "end_time": "2023-12-03T03:59:23.541353",
     "exception": false,
     "start_time": "2023-12-03T03:59:23.526333",
     "status": "completed"
    },
    "tags": []
   },
   "source": [
    "# Importing Libraries"
   ]
  },
  {
   "cell_type": "code",
   "execution_count": 1,
   "id": "7d9767b5",
   "metadata": {
    "execution": {
     "iopub.execute_input": "2023-12-03T03:59:23.572404Z",
     "iopub.status.busy": "2023-12-03T03:59:23.571951Z",
     "iopub.status.idle": "2023-12-03T03:59:26.622175Z",
     "shell.execute_reply": "2023-12-03T03:59:26.620920Z"
    },
    "papermill": {
     "duration": 3.069531,
     "end_time": "2023-12-03T03:59:26.625237",
     "exception": false,
     "start_time": "2023-12-03T03:59:23.555706",
     "status": "completed"
    },
    "tags": []
   },
   "outputs": [],
   "source": [
    "import pandas as pd\n",
    "import numpy as np\n",
    "from sklearn.model_selection import train_test_split\n",
    "from sklearn.feature_extraction.text import TfidfVectorizer\n",
    "from sklearn.linear_model import LogisticRegression\n",
    "from sklearn.metrics import accuracy_score, confusion_matrix, roc_curve, roc_auc_score\n",
    "from sklearn.ensemble import RandomForestClassifier\n",
    "from sklearn.svm import SVC\n",
    "\n",
    "\n",
    "import nltk\n",
    "from nltk.corpus import stopwords\n",
    "from collections import Counter\n",
    "\n",
    "# Libraries for visualisation\n",
    "\n",
    "import matplotlib.pyplot as plt\n",
    "import seaborn as sns"
   ]
  },
  {
   "cell_type": "code",
   "execution_count": 2,
   "id": "79d4af00",
   "metadata": {
    "execution": {
     "iopub.execute_input": "2023-12-03T03:59:26.656011Z",
     "iopub.status.busy": "2023-12-03T03:59:26.655284Z",
     "iopub.status.idle": "2023-12-03T03:59:26.743718Z",
     "shell.execute_reply": "2023-12-03T03:59:26.742674Z"
    },
    "papermill": {
     "duration": 0.106662,
     "end_time": "2023-12-03T03:59:26.746095",
     "exception": false,
     "start_time": "2023-12-03T03:59:26.639433",
     "status": "completed"
    },
    "tags": []
   },
   "outputs": [
    {
     "name": "stdout",
     "output_type": "stream",
     "text": [
      "[nltk_data] Downloading package stopwords to /usr/share/nltk_data...\n",
      "[nltk_data]   Package stopwords is already up-to-date!\n"
     ]
    },
    {
     "data": {
      "text/plain": [
       "True"
      ]
     },
     "execution_count": 2,
     "metadata": {},
     "output_type": "execute_result"
    }
   ],
   "source": [
    "# Download the stopwords dataset\n",
    "\n",
    "nltk.download('stopwords')"
   ]
  },
  {
   "cell_type": "code",
   "execution_count": 3,
   "id": "2805d302",
   "metadata": {
    "execution": {
     "iopub.execute_input": "2023-12-03T03:59:26.777910Z",
     "iopub.status.busy": "2023-12-03T03:59:26.777390Z",
     "iopub.status.idle": "2023-12-03T03:59:26.842777Z",
     "shell.execute_reply": "2023-12-03T03:59:26.841597Z"
    },
    "papermill": {
     "duration": 0.084627,
     "end_time": "2023-12-03T03:59:26.845694",
     "exception": false,
     "start_time": "2023-12-03T03:59:26.761067",
     "status": "completed"
    },
    "tags": []
   },
   "outputs": [
    {
     "data": {
      "text/html": [
       "<div>\n",
       "<style scoped>\n",
       "    .dataframe tbody tr th:only-of-type {\n",
       "        vertical-align: middle;\n",
       "    }\n",
       "\n",
       "    .dataframe tbody tr th {\n",
       "        vertical-align: top;\n",
       "    }\n",
       "\n",
       "    .dataframe thead th {\n",
       "        text-align: right;\n",
       "    }\n",
       "</style>\n",
       "<table border=\"1\" class=\"dataframe\">\n",
       "  <thead>\n",
       "    <tr style=\"text-align: right;\">\n",
       "      <th></th>\n",
       "      <th>v1</th>\n",
       "      <th>v2</th>\n",
       "      <th>Unnamed: 2</th>\n",
       "      <th>Unnamed: 3</th>\n",
       "      <th>Unnamed: 4</th>\n",
       "    </tr>\n",
       "  </thead>\n",
       "  <tbody>\n",
       "    <tr>\n",
       "      <th>0</th>\n",
       "      <td>ham</td>\n",
       "      <td>Go until jurong point, crazy.. Available only ...</td>\n",
       "      <td>NaN</td>\n",
       "      <td>NaN</td>\n",
       "      <td>NaN</td>\n",
       "    </tr>\n",
       "    <tr>\n",
       "      <th>1</th>\n",
       "      <td>ham</td>\n",
       "      <td>Ok lar... Joking wif u oni...</td>\n",
       "      <td>NaN</td>\n",
       "      <td>NaN</td>\n",
       "      <td>NaN</td>\n",
       "    </tr>\n",
       "    <tr>\n",
       "      <th>2</th>\n",
       "      <td>spam</td>\n",
       "      <td>Free entry in 2 a wkly comp to win FA Cup fina...</td>\n",
       "      <td>NaN</td>\n",
       "      <td>NaN</td>\n",
       "      <td>NaN</td>\n",
       "    </tr>\n",
       "    <tr>\n",
       "      <th>3</th>\n",
       "      <td>ham</td>\n",
       "      <td>U dun say so early hor... U c already then say...</td>\n",
       "      <td>NaN</td>\n",
       "      <td>NaN</td>\n",
       "      <td>NaN</td>\n",
       "    </tr>\n",
       "    <tr>\n",
       "      <th>4</th>\n",
       "      <td>ham</td>\n",
       "      <td>Nah I don't think he goes to usf, he lives aro...</td>\n",
       "      <td>NaN</td>\n",
       "      <td>NaN</td>\n",
       "      <td>NaN</td>\n",
       "    </tr>\n",
       "  </tbody>\n",
       "</table>\n",
       "</div>"
      ],
      "text/plain": [
       "     v1                                                 v2 Unnamed: 2  \\\n",
       "0   ham  Go until jurong point, crazy.. Available only ...        NaN   \n",
       "1   ham                      Ok lar... Joking wif u oni...        NaN   \n",
       "2  spam  Free entry in 2 a wkly comp to win FA Cup fina...        NaN   \n",
       "3   ham  U dun say so early hor... U c already then say...        NaN   \n",
       "4   ham  Nah I don't think he goes to usf, he lives aro...        NaN   \n",
       "\n",
       "  Unnamed: 3 Unnamed: 4  \n",
       "0        NaN        NaN  \n",
       "1        NaN        NaN  \n",
       "2        NaN        NaN  \n",
       "3        NaN        NaN  \n",
       "4        NaN        NaN  "
      ]
     },
     "execution_count": 3,
     "metadata": {},
     "output_type": "execute_result"
    }
   ],
   "source": [
    "# Load the dataset\n",
    "df = pd.read_csv(\"/kaggle/input/sms-spam-collection-dataset/spam.csv\",encoding='latin-1')\n",
    "\n",
    "# Display the first few rows of the dataset\n",
    "df.head()"
   ]
  },
  {
   "cell_type": "code",
   "execution_count": 4,
   "id": "a7aab0e1",
   "metadata": {
    "execution": {
     "iopub.execute_input": "2023-12-03T03:59:26.877672Z",
     "iopub.status.busy": "2023-12-03T03:59:26.877142Z",
     "iopub.status.idle": "2023-12-03T03:59:26.898910Z",
     "shell.execute_reply": "2023-12-03T03:59:26.897536Z"
    },
    "papermill": {
     "duration": 0.040964,
     "end_time": "2023-12-03T03:59:26.901560",
     "exception": false,
     "start_time": "2023-12-03T03:59:26.860596",
     "status": "completed"
    },
    "tags": []
   },
   "outputs": [
    {
     "data": {
      "text/html": [
       "<div>\n",
       "<style scoped>\n",
       "    .dataframe tbody tr th:only-of-type {\n",
       "        vertical-align: middle;\n",
       "    }\n",
       "\n",
       "    .dataframe tbody tr th {\n",
       "        vertical-align: top;\n",
       "    }\n",
       "\n",
       "    .dataframe thead th {\n",
       "        text-align: right;\n",
       "    }\n",
       "</style>\n",
       "<table border=\"1\" class=\"dataframe\">\n",
       "  <thead>\n",
       "    <tr style=\"text-align: right;\">\n",
       "      <th></th>\n",
       "      <th>v1</th>\n",
       "      <th>v2</th>\n",
       "    </tr>\n",
       "  </thead>\n",
       "  <tbody>\n",
       "    <tr>\n",
       "      <th>0</th>\n",
       "      <td>ham</td>\n",
       "      <td>Go until jurong point, crazy.. Available only ...</td>\n",
       "    </tr>\n",
       "    <tr>\n",
       "      <th>1</th>\n",
       "      <td>ham</td>\n",
       "      <td>Ok lar... Joking wif u oni...</td>\n",
       "    </tr>\n",
       "    <tr>\n",
       "      <th>2</th>\n",
       "      <td>spam</td>\n",
       "      <td>Free entry in 2 a wkly comp to win FA Cup fina...</td>\n",
       "    </tr>\n",
       "    <tr>\n",
       "      <th>3</th>\n",
       "      <td>ham</td>\n",
       "      <td>U dun say so early hor... U c already then say...</td>\n",
       "    </tr>\n",
       "    <tr>\n",
       "      <th>4</th>\n",
       "      <td>ham</td>\n",
       "      <td>Nah I don't think he goes to usf, he lives aro...</td>\n",
       "    </tr>\n",
       "    <tr>\n",
       "      <th>...</th>\n",
       "      <td>...</td>\n",
       "      <td>...</td>\n",
       "    </tr>\n",
       "    <tr>\n",
       "      <th>5567</th>\n",
       "      <td>spam</td>\n",
       "      <td>This is the 2nd time we have tried 2 contact u...</td>\n",
       "    </tr>\n",
       "    <tr>\n",
       "      <th>5568</th>\n",
       "      <td>ham</td>\n",
       "      <td>Will Ì_ b going to esplanade fr home?</td>\n",
       "    </tr>\n",
       "    <tr>\n",
       "      <th>5569</th>\n",
       "      <td>ham</td>\n",
       "      <td>Pity, * was in mood for that. So...any other s...</td>\n",
       "    </tr>\n",
       "    <tr>\n",
       "      <th>5570</th>\n",
       "      <td>ham</td>\n",
       "      <td>The guy did some bitching but I acted like i'd...</td>\n",
       "    </tr>\n",
       "    <tr>\n",
       "      <th>5571</th>\n",
       "      <td>ham</td>\n",
       "      <td>Rofl. Its true to its name</td>\n",
       "    </tr>\n",
       "  </tbody>\n",
       "</table>\n",
       "<p>5572 rows × 2 columns</p>\n",
       "</div>"
      ],
      "text/plain": [
       "        v1                                                 v2\n",
       "0      ham  Go until jurong point, crazy.. Available only ...\n",
       "1      ham                      Ok lar... Joking wif u oni...\n",
       "2     spam  Free entry in 2 a wkly comp to win FA Cup fina...\n",
       "3      ham  U dun say so early hor... U c already then say...\n",
       "4      ham  Nah I don't think he goes to usf, he lives aro...\n",
       "...    ...                                                ...\n",
       "5567  spam  This is the 2nd time we have tried 2 contact u...\n",
       "5568   ham              Will Ì_ b going to esplanade fr home?\n",
       "5569   ham  Pity, * was in mood for that. So...any other s...\n",
       "5570   ham  The guy did some bitching but I acted like i'd...\n",
       "5571   ham                         Rofl. Its true to its name\n",
       "\n",
       "[5572 rows x 2 columns]"
      ]
     },
     "execution_count": 4,
     "metadata": {},
     "output_type": "execute_result"
    }
   ],
   "source": [
    "# Drop unnecessary columns from the DataFrame\n",
    "\n",
    "columns_to_drop = [\"Unnamed: 2\", \"Unnamed: 3\", \"Unnamed: 4\"]\n",
    "df.drop(columns=columns_to_drop, inplace=True)\n",
    "df"
   ]
  },
  {
   "cell_type": "code",
   "execution_count": 5,
   "id": "818542db",
   "metadata": {
    "execution": {
     "iopub.execute_input": "2023-12-03T03:59:26.935756Z",
     "iopub.status.busy": "2023-12-03T03:59:26.934911Z",
     "iopub.status.idle": "2023-12-03T03:59:26.962819Z",
     "shell.execute_reply": "2023-12-03T03:59:26.961024Z"
    },
    "papermill": {
     "duration": 0.04841,
     "end_time": "2023-12-03T03:59:26.965455",
     "exception": false,
     "start_time": "2023-12-03T03:59:26.917045",
     "status": "completed"
    },
    "tags": []
   },
   "outputs": [
    {
     "name": "stdout",
     "output_type": "stream",
     "text": [
      "<class 'pandas.core.frame.DataFrame'>\n",
      "RangeIndex: 5572 entries, 0 to 5571\n",
      "Data columns (total 2 columns):\n",
      " #   Column  Non-Null Count  Dtype \n",
      "---  ------  --------------  ----- \n",
      " 0   v1      5572 non-null   object\n",
      " 1   v2      5572 non-null   object\n",
      "dtypes: object(2)\n",
      "memory usage: 87.2+ KB\n"
     ]
    }
   ],
   "source": [
    "# Consice information of the dataset \n",
    "df.info()"
   ]
  },
  {
   "cell_type": "code",
   "execution_count": 6,
   "id": "fc0b7c26",
   "metadata": {
    "execution": {
     "iopub.execute_input": "2023-12-03T03:59:26.999101Z",
     "iopub.status.busy": "2023-12-03T03:59:26.998103Z",
     "iopub.status.idle": "2023-12-03T03:59:27.022472Z",
     "shell.execute_reply": "2023-12-03T03:59:27.021211Z"
    },
    "papermill": {
     "duration": 0.044318,
     "end_time": "2023-12-03T03:59:27.025225",
     "exception": false,
     "start_time": "2023-12-03T03:59:26.980907",
     "status": "completed"
    },
    "tags": []
   },
   "outputs": [
    {
     "data": {
      "text/html": [
       "<div>\n",
       "<style scoped>\n",
       "    .dataframe tbody tr th:only-of-type {\n",
       "        vertical-align: middle;\n",
       "    }\n",
       "\n",
       "    .dataframe tbody tr th {\n",
       "        vertical-align: top;\n",
       "    }\n",
       "\n",
       "    .dataframe thead th {\n",
       "        text-align: right;\n",
       "    }\n",
       "</style>\n",
       "<table border=\"1\" class=\"dataframe\">\n",
       "  <thead>\n",
       "    <tr style=\"text-align: right;\">\n",
       "      <th></th>\n",
       "      <th>v1</th>\n",
       "      <th>v2</th>\n",
       "    </tr>\n",
       "  </thead>\n",
       "  <tbody>\n",
       "    <tr>\n",
       "      <th>count</th>\n",
       "      <td>5572</td>\n",
       "      <td>5572</td>\n",
       "    </tr>\n",
       "    <tr>\n",
       "      <th>unique</th>\n",
       "      <td>2</td>\n",
       "      <td>5169</td>\n",
       "    </tr>\n",
       "    <tr>\n",
       "      <th>top</th>\n",
       "      <td>ham</td>\n",
       "      <td>Sorry, I'll call later</td>\n",
       "    </tr>\n",
       "    <tr>\n",
       "      <th>freq</th>\n",
       "      <td>4825</td>\n",
       "      <td>30</td>\n",
       "    </tr>\n",
       "  </tbody>\n",
       "</table>\n",
       "</div>"
      ],
      "text/plain": [
       "          v1                      v2\n",
       "count   5572                    5572\n",
       "unique     2                    5169\n",
       "top      ham  Sorry, I'll call later\n",
       "freq    4825                      30"
      ]
     },
     "execution_count": 6,
     "metadata": {},
     "output_type": "execute_result"
    }
   ],
   "source": [
    "df.describe()"
   ]
  },
  {
   "cell_type": "code",
   "execution_count": 7,
   "id": "823b99ca",
   "metadata": {
    "execution": {
     "iopub.execute_input": "2023-12-03T03:59:27.058356Z",
     "iopub.status.busy": "2023-12-03T03:59:27.057850Z",
     "iopub.status.idle": "2023-12-03T03:59:27.067277Z",
     "shell.execute_reply": "2023-12-03T03:59:27.065980Z"
    },
    "papermill": {
     "duration": 0.029223,
     "end_time": "2023-12-03T03:59:27.069814",
     "exception": false,
     "start_time": "2023-12-03T03:59:27.040591",
     "status": "completed"
    },
    "tags": []
   },
   "outputs": [
    {
     "data": {
      "text/plain": [
       "v1    object\n",
       "v2    object\n",
       "dtype: object"
      ]
     },
     "execution_count": 7,
     "metadata": {},
     "output_type": "execute_result"
    }
   ],
   "source": [
    "df.dtypes"
   ]
  },
  {
   "cell_type": "code",
   "execution_count": 8,
   "id": "de6c14c9",
   "metadata": {
    "execution": {
     "iopub.execute_input": "2023-12-03T03:59:27.103019Z",
     "iopub.status.busy": "2023-12-03T03:59:27.102621Z",
     "iopub.status.idle": "2023-12-03T03:59:27.110747Z",
     "shell.execute_reply": "2023-12-03T03:59:27.109431Z"
    },
    "papermill": {
     "duration": 0.027592,
     "end_time": "2023-12-03T03:59:27.113151",
     "exception": false,
     "start_time": "2023-12-03T03:59:27.085559",
     "status": "completed"
    },
    "tags": []
   },
   "outputs": [
    {
     "data": {
      "text/plain": [
       "(5572, 2)"
      ]
     },
     "execution_count": 8,
     "metadata": {},
     "output_type": "execute_result"
    }
   ],
   "source": [
    "df.shape"
   ]
  },
  {
   "cell_type": "code",
   "execution_count": 9,
   "id": "5b7c09a1",
   "metadata": {
    "execution": {
     "iopub.execute_input": "2023-12-03T03:59:27.147329Z",
     "iopub.status.busy": "2023-12-03T03:59:27.146290Z",
     "iopub.status.idle": "2023-12-03T03:59:27.158552Z",
     "shell.execute_reply": "2023-12-03T03:59:27.157084Z"
    },
    "papermill": {
     "duration": 0.032386,
     "end_time": "2023-12-03T03:59:27.161176",
     "exception": false,
     "start_time": "2023-12-03T03:59:27.128790",
     "status": "completed"
    },
    "tags": []
   },
   "outputs": [
    {
     "data": {
      "text/plain": [
       "v1    0\n",
       "v2    0\n",
       "dtype: int64"
      ]
     },
     "execution_count": 9,
     "metadata": {},
     "output_type": "execute_result"
    }
   ],
   "source": [
    "df.isnull().sum()"
   ]
  },
  {
   "cell_type": "code",
   "execution_count": 10,
   "id": "884e0f27",
   "metadata": {
    "execution": {
     "iopub.execute_input": "2023-12-03T03:59:27.196009Z",
     "iopub.status.busy": "2023-12-03T03:59:27.195578Z",
     "iopub.status.idle": "2023-12-03T03:59:27.204359Z",
     "shell.execute_reply": "2023-12-03T03:59:27.203017Z"
    },
    "papermill": {
     "duration": 0.029013,
     "end_time": "2023-12-03T03:59:27.206911",
     "exception": false,
     "start_time": "2023-12-03T03:59:27.177898",
     "status": "completed"
    },
    "tags": []
   },
   "outputs": [
    {
     "data": {
      "text/plain": [
       "Index(['v1', 'v2'], dtype='object')"
      ]
     },
     "execution_count": 10,
     "metadata": {},
     "output_type": "execute_result"
    }
   ],
   "source": [
    "df.columns"
   ]
  },
  {
   "cell_type": "code",
   "execution_count": 11,
   "id": "c518ade6",
   "metadata": {
    "execution": {
     "iopub.execute_input": "2023-12-03T03:59:27.244377Z",
     "iopub.status.busy": "2023-12-03T03:59:27.243972Z",
     "iopub.status.idle": "2023-12-03T03:59:27.250722Z",
     "shell.execute_reply": "2023-12-03T03:59:27.249378Z"
    },
    "papermill": {
     "duration": 0.029145,
     "end_time": "2023-12-03T03:59:27.253103",
     "exception": false,
     "start_time": "2023-12-03T03:59:27.223958",
     "status": "completed"
    },
    "tags": []
   },
   "outputs": [],
   "source": [
    "# Rename the columns \"v1 and \"v2\" to new names\n",
    "\n",
    "new_column_names = {\"v1\":\"Category\",\"v2\":\"Message\"}\n",
    "df.rename(columns = new_column_names,inplace = True)"
   ]
  },
  {
   "cell_type": "code",
   "execution_count": 12,
   "id": "143c020f",
   "metadata": {
    "execution": {
     "iopub.execute_input": "2023-12-03T03:59:27.379771Z",
     "iopub.status.busy": "2023-12-03T03:59:27.379029Z",
     "iopub.status.idle": "2023-12-03T03:59:27.389959Z",
     "shell.execute_reply": "2023-12-03T03:59:27.388652Z"
    },
    "papermill": {
     "duration": 0.031683,
     "end_time": "2023-12-03T03:59:27.392740",
     "exception": false,
     "start_time": "2023-12-03T03:59:27.361057",
     "status": "completed"
    },
    "tags": []
   },
   "outputs": [
    {
     "data": {
      "text/html": [
       "<div>\n",
       "<style scoped>\n",
       "    .dataframe tbody tr th:only-of-type {\n",
       "        vertical-align: middle;\n",
       "    }\n",
       "\n",
       "    .dataframe tbody tr th {\n",
       "        vertical-align: top;\n",
       "    }\n",
       "\n",
       "    .dataframe thead th {\n",
       "        text-align: right;\n",
       "    }\n",
       "</style>\n",
       "<table border=\"1\" class=\"dataframe\">\n",
       "  <thead>\n",
       "    <tr style=\"text-align: right;\">\n",
       "      <th></th>\n",
       "      <th>Category</th>\n",
       "      <th>Message</th>\n",
       "    </tr>\n",
       "  </thead>\n",
       "  <tbody>\n",
       "    <tr>\n",
       "      <th>0</th>\n",
       "      <td>ham</td>\n",
       "      <td>Go until jurong point, crazy.. Available only ...</td>\n",
       "    </tr>\n",
       "    <tr>\n",
       "      <th>1</th>\n",
       "      <td>ham</td>\n",
       "      <td>Ok lar... Joking wif u oni...</td>\n",
       "    </tr>\n",
       "    <tr>\n",
       "      <th>2</th>\n",
       "      <td>spam</td>\n",
       "      <td>Free entry in 2 a wkly comp to win FA Cup fina...</td>\n",
       "    </tr>\n",
       "    <tr>\n",
       "      <th>3</th>\n",
       "      <td>ham</td>\n",
       "      <td>U dun say so early hor... U c already then say...</td>\n",
       "    </tr>\n",
       "    <tr>\n",
       "      <th>4</th>\n",
       "      <td>ham</td>\n",
       "      <td>Nah I don't think he goes to usf, he lives aro...</td>\n",
       "    </tr>\n",
       "  </tbody>\n",
       "</table>\n",
       "</div>"
      ],
      "text/plain": [
       "  Category                                            Message\n",
       "0      ham  Go until jurong point, crazy.. Available only ...\n",
       "1      ham                      Ok lar... Joking wif u oni...\n",
       "2     spam  Free entry in 2 a wkly comp to win FA Cup fina...\n",
       "3      ham  U dun say so early hor... U c already then say...\n",
       "4      ham  Nah I don't think he goes to usf, he lives aro..."
      ]
     },
     "execution_count": 12,
     "metadata": {},
     "output_type": "execute_result"
    }
   ],
   "source": [
    "df.head()"
   ]
  },
  {
   "cell_type": "code",
   "execution_count": 13,
   "id": "746b15ef",
   "metadata": {
    "execution": {
     "iopub.execute_input": "2023-12-03T03:59:27.428858Z",
     "iopub.status.busy": "2023-12-03T03:59:27.428440Z",
     "iopub.status.idle": "2023-12-03T03:59:27.718381Z",
     "shell.execute_reply": "2023-12-03T03:59:27.717073Z"
    },
    "papermill": {
     "duration": 0.311349,
     "end_time": "2023-12-03T03:59:27.721733",
     "exception": false,
     "start_time": "2023-12-03T03:59:27.410384",
     "status": "completed"
    },
    "tags": []
   },
   "outputs": [
    {
     "data": {
      "image/png": "[encoded data removed]",
      "text/plain": [
       "<Figure size 640x480 with 1 Axes>"
      ]
     },
     "metadata": {},
     "output_type": "display_data"
    }
   ],
   "source": [
    "sns.countplot(data=df, x='Category')\n",
    "plt.xlabel('Category')\n",
    "plt.ylabel('count')\n",
    "plt.title('Distribution of mails')\n",
    "plt.show()"
   ]
  },
  {
   "cell_type": "code",
   "execution_count": 14,
   "id": "ae87fad6",
   "metadata": {
    "execution": {
     "iopub.execute_input": "2023-12-03T03:59:27.758182Z",
     "iopub.status.busy": "2023-12-03T03:59:27.757390Z",
     "iopub.status.idle": "2023-12-03T03:59:27.908462Z",
     "shell.execute_reply": "2023-12-03T03:59:27.906813Z"
    },
    "papermill": {
     "duration": 0.176446,
     "end_time": "2023-12-03T03:59:27.914936",
     "exception": false,
     "start_time": "2023-12-03T03:59:27.738490",
     "status": "completed"
    },
    "tags": []
   },
   "outputs": [
    {
     "data": {
      "image/png": "[encoded data removed]",
      "text/plain": [
       "<Figure size 640x480 with 1 Axes>"
      ]
     },
     "metadata": {},
     "output_type": "display_data"
    }
   ],
   "source": [
    "plt.pie(df['Category'].value_counts(),labels=['ham','spam'],autopct='%0.2f')\n",
    "plt.show()"
   ]
  },
  {
   "cell_type": "code",
   "execution_count": 15,
   "id": "5c12c081",
   "metadata": {
    "execution": {
     "iopub.execute_input": "2023-12-03T03:59:27.986802Z",
     "iopub.status.busy": "2023-12-03T03:59:27.986009Z",
     "iopub.status.idle": "2023-12-03T03:59:27.996161Z",
     "shell.execute_reply": "2023-12-03T03:59:27.994847Z"
    },
    "papermill": {
     "duration": 0.046812,
     "end_time": "2023-12-03T03:59:27.998829",
     "exception": false,
     "start_time": "2023-12-03T03:59:27.952017",
     "status": "completed"
    },
    "tags": []
   },
   "outputs": [],
   "source": [
    "df.loc[df[\"Category\"] == \"spam\", \"Category\"] = 0\n",
    "df.loc[df[\"Category\"] == \"ham\", \"Category\"] = 1"
   ]
  },
  {
   "cell_type": "code",
   "execution_count": 16,
   "id": "9f6bdb18",
   "metadata": {
    "execution": {
     "iopub.execute_input": "2023-12-03T03:59:28.037675Z",
     "iopub.status.busy": "2023-12-03T03:59:28.037146Z",
     "iopub.status.idle": "2023-12-03T03:59:28.043346Z",
     "shell.execute_reply": "2023-12-03T03:59:28.042083Z"
    },
    "papermill": {
     "duration": 0.028693,
     "end_time": "2023-12-03T03:59:28.045912",
     "exception": false,
     "start_time": "2023-12-03T03:59:28.017219",
     "status": "completed"
    },
    "tags": []
   },
   "outputs": [],
   "source": [
    "# Separate the feature (message) and target (category) data\n",
    "\n",
    "X = df[\"Message\"]\n",
    "Y = df[\"Category\"]"
   ]
  },
  {
   "cell_type": "code",
   "execution_count": 17,
   "id": "b922496d",
   "metadata": {
    "execution": {
     "iopub.execute_input": "2023-12-03T03:59:28.082559Z",
     "iopub.status.busy": "2023-12-03T03:59:28.082076Z",
     "iopub.status.idle": "2023-12-03T03:59:28.090480Z",
     "shell.execute_reply": "2023-12-03T03:59:28.089088Z"
    },
    "papermill": {
     "duration": 0.030392,
     "end_time": "2023-12-03T03:59:28.093591",
     "exception": false,
     "start_time": "2023-12-03T03:59:28.063199",
     "status": "completed"
    },
    "tags": []
   },
   "outputs": [
    {
     "name": "stdout",
     "output_type": "stream",
     "text": [
      "0       Go until jurong point, crazy.. Available only ...\n",
      "1                           Ok lar... Joking wif u oni...\n",
      "2       Free entry in 2 a wkly comp to win FA Cup fina...\n",
      "3       U dun say so early hor... U c already then say...\n",
      "4       Nah I don't think he goes to usf, he lives aro...\n",
      "                              ...                        \n",
      "5567    This is the 2nd time we have tried 2 contact u...\n",
      "5568                Will Ì_ b going to esplanade fr home?\n",
      "5569    Pity, * was in mood for that. So...any other s...\n",
      "5570    The guy did some bitching but I acted like i'd...\n",
      "5571                           Rofl. Its true to its name\n",
      "Name: Message, Length: 5572, dtype: object\n"
     ]
    }
   ],
   "source": [
    "print(X)"
   ]
  },
  {
   "cell_type": "code",
   "execution_count": 18,
   "id": "319f2fd2",
   "metadata": {
    "execution": {
     "iopub.execute_input": "2023-12-03T03:59:28.130715Z",
     "iopub.status.busy": "2023-12-03T03:59:28.130240Z",
     "iopub.status.idle": "2023-12-03T03:59:28.139224Z",
     "shell.execute_reply": "2023-12-03T03:59:28.137912Z"
    },
    "papermill": {
     "duration": 0.030636,
     "end_time": "2023-12-03T03:59:28.141517",
     "exception": false,
     "start_time": "2023-12-03T03:59:28.110881",
     "status": "completed"
    },
    "tags": []
   },
   "outputs": [
    {
     "name": "stdout",
     "output_type": "stream",
     "text": [
      "0       1\n",
      "1       1\n",
      "2       0\n",
      "3       1\n",
      "4       1\n",
      "       ..\n",
      "5567    0\n",
      "5568    1\n",
      "5569    1\n",
      "5570    1\n",
      "5571    1\n",
      "Name: Category, Length: 5572, dtype: object\n"
     ]
    }
   ],
   "source": [
    "print(Y)"
   ]
  },
  {
   "cell_type": "code",
   "execution_count": 19,
   "id": "b74475de",
   "metadata": {
    "execution": {
     "iopub.execute_input": "2023-12-03T03:59:28.181374Z",
     "iopub.status.busy": "2023-12-03T03:59:28.179992Z",
     "iopub.status.idle": "2023-12-03T03:59:28.191034Z",
     "shell.execute_reply": "2023-12-03T03:59:28.189483Z"
    },
    "papermill": {
     "duration": 0.036283,
     "end_time": "2023-12-03T03:59:28.195285",
     "exception": false,
     "start_time": "2023-12-03T03:59:28.159002",
     "status": "completed"
    },
    "tags": []
   },
   "outputs": [],
   "source": [
    "X_train, X_test, Y_train, Y_test = train_test_split(X, Y, test_size = 0.2, random_state = 3)"
   ]
  },
  {
   "cell_type": "code",
   "execution_count": 20,
   "id": "c75c9506",
   "metadata": {
    "execution": {
     "iopub.execute_input": "2023-12-03T03:59:28.243028Z",
     "iopub.status.busy": "2023-12-03T03:59:28.242538Z",
     "iopub.status.idle": "2023-12-03T03:59:28.249651Z",
     "shell.execute_reply": "2023-12-03T03:59:28.248065Z"
    },
    "papermill": {
     "duration": 0.035461,
     "end_time": "2023-12-03T03:59:28.252663",
     "exception": false,
     "start_time": "2023-12-03T03:59:28.217202",
     "status": "completed"
    },
    "tags": []
   },
   "outputs": [
    {
     "name": "stdout",
     "output_type": "stream",
     "text": [
      "(4457,)\n",
      "(1115,)\n",
      "(4457,)\n",
      "(1115,)\n"
     ]
    }
   ],
   "source": [
    "print(X_train.shape)\n",
    "print(X_test.shape)\n",
    "print(Y_train.shape)\n",
    "print(Y_test.shape)"
   ]
  },
  {
   "cell_type": "code",
   "execution_count": 21,
   "id": "2a43cdfd",
   "metadata": {
    "execution": {
     "iopub.execute_input": "2023-12-03T03:59:28.291522Z",
     "iopub.status.busy": "2023-12-03T03:59:28.290299Z",
     "iopub.status.idle": "2023-12-03T03:59:28.296322Z",
     "shell.execute_reply": "2023-12-03T03:59:28.294981Z"
    },
    "papermill": {
     "duration": 0.028191,
     "end_time": "2023-12-03T03:59:28.298968",
     "exception": false,
     "start_time": "2023-12-03T03:59:28.270777",
     "status": "completed"
    },
    "tags": []
   },
   "outputs": [],
   "source": [
    "# Initialize TF-IDF Vectorizer\n",
    "feature_extraction = TfidfVectorizer(min_df=1, stop_words=\"english\", lowercase=True)"
   ]
  },
  {
   "cell_type": "code",
   "execution_count": 22,
   "id": "8cfd7850",
   "metadata": {
    "execution": {
     "iopub.execute_input": "2023-12-03T03:59:28.336385Z",
     "iopub.status.busy": "2023-12-03T03:59:28.335903Z",
     "iopub.status.idle": "2023-12-03T03:59:28.548999Z",
     "shell.execute_reply": "2023-12-03T03:59:28.548042Z"
    },
    "papermill": {
     "duration": 0.235286,
     "end_time": "2023-12-03T03:59:28.551923",
     "exception": false,
     "start_time": "2023-12-03T03:59:28.316637",
     "status": "completed"
    },
    "tags": []
   },
   "outputs": [],
   "source": [
    "# Feature extraction for training and testing data\n",
    "X_train_features = feature_extraction.fit_transform(X_train)\n",
    "X_test_features = feature_extraction.transform(X_test)"
   ]
  },
  {
   "cell_type": "code",
   "execution_count": 23,
   "id": "509971dd",
   "metadata": {
    "execution": {
     "iopub.execute_input": "2023-12-03T03:59:28.590904Z",
     "iopub.status.busy": "2023-12-03T03:59:28.590136Z",
     "iopub.status.idle": "2023-12-03T03:59:28.596232Z",
     "shell.execute_reply": "2023-12-03T03:59:28.595478Z"
    },
    "papermill": {
     "duration": 0.028551,
     "end_time": "2023-12-03T03:59:28.598939",
     "exception": false,
     "start_time": "2023-12-03T03:59:28.570388",
     "status": "completed"
    },
    "tags": []
   },
   "outputs": [
    {
     "name": "stdout",
     "output_type": "stream",
     "text": [
      "  (0, 741)\t0.3219352588930141\n",
      "  (0, 3979)\t0.2410582143632299\n",
      "  (0, 4296)\t0.3891385935794867\n",
      "  (0, 6599)\t0.20296878731699391\n",
      "  (0, 3386)\t0.3219352588930141\n",
      "  (0, 2122)\t0.38613577623520473\n",
      "  (0, 3136)\t0.440116181574609\n",
      "  (0, 3262)\t0.25877035357606315\n",
      "  (0, 3380)\t0.21807195185332803\n",
      "  (0, 4513)\t0.2909649098524696\n",
      "  (1, 4061)\t0.380431198316959\n",
      "  (1, 6872)\t0.4306015894277422\n",
      "  (1, 6417)\t0.4769136859540388\n",
      "  (1, 6442)\t0.5652509076654626\n",
      "  (1, 7443)\t0.35056971070320353\n",
      "  (2, 933)\t0.4917598465723273\n",
      "  (2, 2109)\t0.42972812260098503\n",
      "  (2, 3917)\t0.40088501350982736\n",
      "  (2, 2226)\t0.413484525934624\n",
      "  (2, 5825)\t0.4917598465723273\n",
      "  (3, 6140)\t0.4903863168693604\n",
      "  (3, 1599)\t0.5927091854194291\n",
      "  (3, 1842)\t0.3708680641487708\n",
      "  (3, 7453)\t0.5202633571003087\n",
      "  (4, 2531)\t0.7419319091456392\n",
      "  :\t:\n",
      "  (4452, 2122)\t0.31002103760284144\n",
      "  (4453, 999)\t0.6760129013031282\n",
      "  (4453, 7273)\t0.5787739591782677\n",
      "  (4453, 1762)\t0.45610005640082985\n",
      "  (4454, 3029)\t0.42618909997886\n",
      "  (4454, 2086)\t0.3809693742808703\n",
      "  (4454, 3088)\t0.34475593009514444\n",
      "  (4454, 2001)\t0.4166919007849217\n",
      "  (4454, 1049)\t0.31932060116006045\n",
      "  (4454, 7346)\t0.31166263834107377\n",
      "  (4454, 5370)\t0.42618909997886\n",
      "  (4455, 1148)\t0.38998123077430413\n",
      "  (4455, 6433)\t0.38998123077430413\n",
      "  (4455, 6361)\t0.25697343671652706\n",
      "  (4455, 2764)\t0.3226323745940581\n",
      "  (4455, 7358)\t0.2915949626395065\n",
      "  (4455, 7407)\t0.3028481995557642\n",
      "  (4455, 2108)\t0.3136468384526087\n",
      "  (4455, 4251)\t0.30616657078392584\n",
      "  (4455, 3763)\t0.16807158405536876\n",
      "  (4455, 4773)\t0.35860460546223444\n",
      "  (4456, 6117)\t0.5304350313291551\n",
      "  (4456, 6133)\t0.5304350313291551\n",
      "  (4456, 1386)\t0.4460036316446079\n",
      "  (4456, 4557)\t0.48821933148688146\n"
     ]
    }
   ],
   "source": [
    "print(X_train_features)"
   ]
  },
  {
   "cell_type": "code",
   "execution_count": 24,
   "id": "7e5923ef",
   "metadata": {
    "execution": {
     "iopub.execute_input": "2023-12-03T03:59:28.645208Z",
     "iopub.status.busy": "2023-12-03T03:59:28.644064Z",
     "iopub.status.idle": "2023-12-03T03:59:28.652096Z",
     "shell.execute_reply": "2023-12-03T03:59:28.650325Z"
    },
    "papermill": {
     "duration": 0.033572,
     "end_time": "2023-12-03T03:59:28.655136",
     "exception": false,
     "start_time": "2023-12-03T03:59:28.621564",
     "status": "completed"
    },
    "tags": []
   },
   "outputs": [
    {
     "name": "stdout",
     "output_type": "stream",
     "text": [
      "  (0, 6007)\t0.537093591660729\n",
      "  (0, 4294)\t0.5159375448718375\n",
      "  (0, 1537)\t0.667337188824809\n",
      "  (1, 7222)\t0.23059492898537967\n",
      "  (1, 6599)\t0.14954692788663673\n",
      "  (1, 6579)\t0.2733682162643466\n",
      "  (1, 5501)\t0.28671640581392144\n",
      "  (1, 5347)\t0.2733682162643466\n",
      "  (1, 5250)\t0.28671640581392144\n",
      "  (1, 4045)\t0.250549335510249\n",
      "  (1, 3365)\t0.28671640581392144\n",
      "  (1, 3300)\t0.37297727661877506\n",
      "  (1, 2899)\t0.1385795841356552\n",
      "  (1, 602)\t0.28671640581392144\n",
      "  (1, 520)\t0.19344507865262492\n",
      "  (1, 321)\t0.28671640581392144\n",
      "  (1, 43)\t0.24547458936715758\n",
      "  (1, 1)\t0.21260233518669946\n",
      "  (2, 6701)\t0.30969080396105314\n",
      "  (2, 6648)\t0.3410121739015846\n",
      "  (2, 4070)\t0.44361668503137164\n",
      "  (2, 2941)\t0.6068486133983123\n",
      "  (2, 2939)\t0.47195476517479323\n",
      "  (3, 7101)\t0.29334330258175106\n",
      "  (3, 6746)\t0.2031810874151213\n",
      "  :\t:\n",
      "  (1111, 7415)\t0.4945753828645536\n",
      "  (1111, 6848)\t0.39685462025643714\n",
      "  (1111, 6093)\t0.4671914311419049\n",
      "  (1111, 3259)\t0.4477622081928626\n",
      "  (1111, 2458)\t0.42325261089251354\n",
      "  (1112, 4903)\t0.4770390302498559\n",
      "  (1112, 4282)\t0.3509184569755111\n",
      "  (1112, 3432)\t0.36314080337211135\n",
      "  (1112, 3259)\t0.36314080337211135\n",
      "  (1112, 2780)\t0.374513931687687\n",
      "  (1112, 2704)\t0.3704547809702326\n",
      "  (1112, 2114)\t0.3287097264348074\n",
      "  (1113, 6846)\t0.4168758749641195\n",
      "  (1113, 5806)\t0.488439471695463\n",
      "  (1113, 3963)\t0.3910346709289789\n",
      "  (1113, 3239)\t0.488439471695463\n",
      "  (1113, 1657)\t0.44289971323548966\n",
      "  (1114, 7295)\t0.33014792863496223\n",
      "  (1114, 6902)\t0.3063326681877805\n",
      "  (1114, 5565)\t0.5010303679312903\n",
      "  (1114, 5073)\t0.3194139844000448\n",
      "  (1114, 3564)\t0.40844238751288037\n",
      "  (1114, 2899)\t0.2421646568502054\n",
      "  (1114, 2862)\t0.38140394975458775\n",
      "  (1114, 2352)\t0.270495916357943\n"
     ]
    }
   ],
   "source": [
    "print(X_test_features)"
   ]
  },
  {
   "cell_type": "code",
   "execution_count": 25,
   "id": "7504407a",
   "metadata": {
    "execution": {
     "iopub.execute_input": "2023-12-03T03:59:28.697895Z",
     "iopub.status.busy": "2023-12-03T03:59:28.697036Z",
     "iopub.status.idle": "2023-12-03T03:59:28.703493Z",
     "shell.execute_reply": "2023-12-03T03:59:28.702675Z"
    },
    "papermill": {
     "duration": 0.032172,
     "end_time": "2023-12-03T03:59:28.705948",
     "exception": false,
     "start_time": "2023-12-03T03:59:28.673776",
     "status": "completed"
    },
    "tags": []
   },
   "outputs": [],
   "source": [
    "# Convert Y_train and Y_test to integer type\n",
    "Y_train = Y_train.astype(\"int\")\n",
    "Y_test = Y_test.astype(\"int\")"
   ]
  },
  {
   "cell_type": "code",
   "execution_count": 26,
   "id": "84f69957",
   "metadata": {
    "execution": {
     "iopub.execute_input": "2023-12-03T03:59:28.745555Z",
     "iopub.status.busy": "2023-12-03T03:59:28.744481Z",
     "iopub.status.idle": "2023-12-03T03:59:28.753132Z",
     "shell.execute_reply": "2023-12-03T03:59:28.751478Z"
    },
    "papermill": {
     "duration": 0.031255,
     "end_time": "2023-12-03T03:59:28.755612",
     "exception": false,
     "start_time": "2023-12-03T03:59:28.724357",
     "status": "completed"
    },
    "tags": []
   },
   "outputs": [
    {
     "name": "stdout",
     "output_type": "stream",
     "text": [
      "3075    1\n",
      "1787    1\n",
      "1614    1\n",
      "4304    1\n",
      "3266    1\n",
      "       ..\n",
      "789     1\n",
      "968     1\n",
      "1667    1\n",
      "3321    1\n",
      "1688    1\n",
      "Name: Category, Length: 4457, dtype: int64\n"
     ]
    }
   ],
   "source": [
    "print(Y_train)"
   ]
  },
  {
   "cell_type": "code",
   "execution_count": 27,
   "id": "11559c8e",
   "metadata": {
    "execution": {
     "iopub.execute_input": "2023-12-03T03:59:28.794456Z",
     "iopub.status.busy": "2023-12-03T03:59:28.794018Z",
     "iopub.status.idle": "2023-12-03T03:59:28.801332Z",
     "shell.execute_reply": "2023-12-03T03:59:28.800423Z"
    },
    "papermill": {
     "duration": 0.030802,
     "end_time": "2023-12-03T03:59:28.804703",
     "exception": false,
     "start_time": "2023-12-03T03:59:28.773901",
     "status": "completed"
    },
    "tags": []
   },
   "outputs": [
    {
     "name": "stdout",
     "output_type": "stream",
     "text": [
      "2632    1\n",
      "454     0\n",
      "983     1\n",
      "1282    1\n",
      "4610    1\n",
      "       ..\n",
      "4827    1\n",
      "5291    1\n",
      "3325    1\n",
      "3561    1\n",
      "1136    0\n",
      "Name: Category, Length: 1115, dtype: int64\n"
     ]
    }
   ],
   "source": [
    "print(Y_test)"
   ]
  },
  {
   "cell_type": "markdown",
   "id": "b9fdd7ad",
   "metadata": {
    "papermill": {
     "duration": 0.017773,
     "end_time": "2023-12-03T03:59:28.840713",
     "exception": false,
     "start_time": "2023-12-03T03:59:28.822940",
     "status": "completed"
    },
    "tags": []
   },
   "source": [
    "# Model Training"
   ]
  },
  {
   "cell_type": "markdown",
   "id": "e4ba9916",
   "metadata": {
    "papermill": {
     "duration": 0.018179,
     "end_time": "2023-12-03T03:59:28.876988",
     "exception": false,
     "start_time": "2023-12-03T03:59:28.858809",
     "status": "completed"
    },
    "tags": []
   },
   "source": [
    "**Logistic Regresion**"
   ]
  },
  {
   "cell_type": "code",
   "execution_count": 28,
   "id": "d12537dc",
   "metadata": {
    "execution": {
     "iopub.execute_input": "2023-12-03T03:59:28.915289Z",
     "iopub.status.busy": "2023-12-03T03:59:28.914811Z",
     "iopub.status.idle": "2023-12-03T03:59:29.010643Z",
     "shell.execute_reply": "2023-12-03T03:59:29.009587Z"
    },
    "papermill": {
     "duration": 0.118518,
     "end_time": "2023-12-03T03:59:29.013420",
     "exception": false,
     "start_time": "2023-12-03T03:59:28.894902",
     "status": "completed"
    },
    "tags": []
   },
   "outputs": [
    {
     "data": {
      "text/html": [
       "<style>#sk-container-id-1 {color: black;background-color: white;}#sk-container-id-1 pre{padding: 0;}#sk-container-id-1 div.sk-toggleable {background-color: white;}#sk-container-id-1 label.sk-toggleable__label {cursor: pointer;display: block;width: 100%;margin-bottom: 0;padding: 0.3em;box-sizing: border-box;text-align: center;}#sk-container-id-1 label.sk-toggleable__label-arrow:before {content: \"▸\";float: left;margin-right: 0.25em;color: #696969;}#sk-container-id-1 label.sk-toggleable__label-arrow:hover:before {color: black;}#sk-container-id-1 div.sk-estimator:hover label.sk-toggleable__label-arrow:before {color: black;}#sk-container-id-1 div.sk-toggleable__content {max-height: 0;max-width: 0;overflow: hidden;text-align: left;background-color: #f0f8ff;}#sk-container-id-1 div.sk-toggleable__content pre {margin: 0.2em;color: black;border-radius: 0.25em;background-color: #f0f8ff;}#sk-container-id-1 input.sk-toggleable__control:checked~div.sk-toggleable__content {max-height: 200px;max-width: 100%;overflow: auto;}#sk-container-id-1 input.sk-toggleable__control:checked~label.sk-toggleable__label-arrow:before {content: \"▾\";}#sk-container-id-1 div.sk-estimator input.sk-toggleable__control:checked~label.sk-toggleable__label {background-color: #d4ebff;}#sk-container-id-1 div.sk-label input.sk-toggleable__control:checked~label.sk-toggleable__label {background-color: #d4ebff;}#sk-container-id-1 input.sk-hidden--visually {border: 0;clip: rect(1px 1px 1px 1px);clip: rect(1px, 1px, 1px, 1px);height: 1px;margin: -1px;overflow: hidden;padding: 0;position: absolute;width: 1px;}#sk-container-id-1 div.sk-estimator {font-family: monospace;background-color: #f0f8ff;border: 1px dotted black;border-radius: 0.25em;box-sizing: border-box;margin-bottom: 0.5em;}#sk-container-id-1 div.sk-estimator:hover {background-color: #d4ebff;}#sk-container-id-1 div.sk-parallel-item::after {content: \"\";width: 100%;border-bottom: 1px solid gray;flex-grow: 1;}#sk-container-id-1 div.sk-label:hover label.sk-toggleable__label {background-color: #d4ebff;}#sk-container-id-1 div.sk-serial::before {content: \"\";position: absolute;border-left: 1px solid gray;box-sizing: border-box;top: 0;bottom: 0;left: 50%;z-index: 0;}#sk-container-id-1 div.sk-serial {display: flex;flex-direction: column;align-items: center;background-color: white;padding-right: 0.2em;padding-left: 0.2em;position: relative;}#sk-container-id-1 div.sk-item {position: relative;z-index: 1;}#sk-container-id-1 div.sk-parallel {display: flex;align-items: stretch;justify-content: center;background-color: white;position: relative;}#sk-container-id-1 div.sk-item::before, #sk-container-id-1 div.sk-parallel-item::before {content: \"\";position: absolute;border-left: 1px solid gray;box-sizing: border-box;top: 0;bottom: 0;left: 50%;z-index: -1;}#sk-container-id-1 div.sk-parallel-item {display: flex;flex-direction: column;z-index: 1;position: relative;background-color: white;}#sk-container-id-1 div.sk-parallel-item:first-child::after {align-self: flex-end;width: 50%;}#sk-container-id-1 div.sk-parallel-item:last-child::after {align-self: flex-start;width: 50%;}#sk-container-id-1 div.sk-parallel-item:only-child::after {width: 0;}#sk-container-id-1 div.sk-dashed-wrapped {border: 1px dashed gray;margin: 0 0.4em 0.5em 0.4em;box-sizing: border-box;padding-bottom: 0.4em;background-color: white;}#sk-container-id-1 div.sk-label label {font-family: monospace;font-weight: bold;display: inline-block;line-height: 1.2em;}#sk-container-id-1 div.sk-label-container {text-align: center;}#sk-container-id-1 div.sk-container {/* jupyter's `normalize.less` sets `[hidden] { display: none; }` but bootstrap.min.css set `[hidden] { display: none !important; }` so we also need the `!important` here to be able to override the default hidden behavior on the sphinx rendered scikit-learn.org. See: https://github.com/scikit-learn/scikit-learn/issues/21755 */display: inline-block !important;position: relative;}#sk-container-id-1 div.sk-text-repr-fallback {display: none;}</style><div id=\"sk-container-id-1\" class=\"sk-top-container\"><div class=\"sk-text-repr-fallback\"><pre>LogisticRegression()</pre><b>In a Jupyter environment, please rerun this cell to show the HTML representation or trust the notebook. <br />On GitHub, the HTML representation is unable to render, please try loading this page with nbviewer.org.</b></div><div class=\"sk-container\" hidden><div class=\"sk-item\"><div class=\"sk-estimator sk-toggleable\"><input class=\"sk-toggleable__control sk-hidden--visually\" id=\"sk-estimator-id-1\" type=\"checkbox\" checked><label for=\"sk-estimator-id-1\" class=\"sk-toggleable__label sk-toggleable__label-arrow\">LogisticRegression</label><div class=\"sk-toggleable__content\"><pre>LogisticRegression()</pre></div></div></div></div></div>"
      ],
      "text/plain": [
       "LogisticRegression()"
      ]
     },
     "execution_count": 28,
     "metadata": {},
     "output_type": "execute_result"
    }
   ],
   "source": [
    "# Create and Fit Logistic Regression Model\n",
    "model = LogisticRegression()\n",
    "model.fit(X_train_features, Y_train)"
   ]
  },
  {
   "cell_type": "code",
   "execution_count": 29,
   "id": "43c13b79",
   "metadata": {
    "execution": {
     "iopub.execute_input": "2023-12-03T03:59:29.053099Z",
     "iopub.status.busy": "2023-12-03T03:59:29.052629Z",
     "iopub.status.idle": "2023-12-03T03:59:29.062246Z",
     "shell.execute_reply": "2023-12-03T03:59:29.060771Z"
    },
    "papermill": {
     "duration": 0.032592,
     "end_time": "2023-12-03T03:59:29.064524",
     "exception": false,
     "start_time": "2023-12-03T03:59:29.031932",
     "status": "completed"
    },
    "tags": []
   },
   "outputs": [
    {
     "name": "stdout",
     "output_type": "stream",
     "text": [
      "Accuracy on training data:  0.9661207089970832\n"
     ]
    }
   ],
   "source": [
    " #Make predictions on the training data\n",
    "predict_train_data=model.predict(X_train_features)\n",
    "\n",
    "#Model Evaluation\n",
    "from sklearn.metrics import accuracy_score,confusion_matrix\n",
    "accuracy_train_data=accuracy_score(Y_train,predict_train_data)\n",
    "print(\"Accuracy on training data: \",accuracy_train_data)"
   ]
  },
  {
   "cell_type": "code",
   "execution_count": 30,
   "id": "e09412b9",
   "metadata": {
    "execution": {
     "iopub.execute_input": "2023-12-03T03:59:29.104647Z",
     "iopub.status.busy": "2023-12-03T03:59:29.104093Z",
     "iopub.status.idle": "2023-12-03T03:59:29.114141Z",
     "shell.execute_reply": "2023-12-03T03:59:29.112588Z"
    },
    "papermill": {
     "duration": 0.033329,
     "end_time": "2023-12-03T03:59:29.116804",
     "exception": false,
     "start_time": "2023-12-03T03:59:29.083475",
     "status": "completed"
    },
    "tags": []
   },
   "outputs": [
    {
     "name": "stdout",
     "output_type": "stream",
     "text": [
      "acuuracy on test data:  0.9623318385650225\n"
     ]
    }
   ],
   "source": [
    "# Make predictions on the testing data\n",
    "predict_test_data=model.predict(X_test_features)\n",
    "\n",
    "#Model Evaluation\n",
    "accuracy_test_data=accuracy_score(Y_test,predict_test_data)\n",
    "print(\"acuuracy on test data: \",accuracy_test_data)"
   ]
  },
  {
   "cell_type": "code",
   "execution_count": 31,
   "id": "a0dcbeab",
   "metadata": {
    "execution": {
     "iopub.execute_input": "2023-12-03T03:59:29.156418Z",
     "iopub.status.busy": "2023-12-03T03:59:29.155937Z",
     "iopub.status.idle": "2023-12-03T03:59:29.166536Z",
     "shell.execute_reply": "2023-12-03T03:59:29.165074Z"
    },
    "papermill": {
     "duration": 0.033618,
     "end_time": "2023-12-03T03:59:29.168868",
     "exception": false,
     "start_time": "2023-12-03T03:59:29.135250",
     "status": "completed"
    },
    "tags": []
   },
   "outputs": [
    {
     "name": "stdout",
     "output_type": "stream",
     "text": [
      "[1]\n",
      "Ham Mail\n"
     ]
    }
   ],
   "source": [
    "new_mail=[\"Congratulations on your recent achievement! Well done.\"]\n",
    "new_data_features=feature_extraction.transform(new_mail)\n",
    "prediction=model.predict(new_data_features)\n",
    "print(prediction)\n",
    "\n",
    "if(prediction[0]==1):\n",
    "    print(\"Ham Mail\")\n",
    "else:\n",
    "    print(\"Spam Mail\")"
   ]
  },
  {
   "cell_type": "code",
   "execution_count": 32,
   "id": "0defd74d",
   "metadata": {
    "execution": {
     "iopub.execute_input": "2023-12-03T03:59:29.208328Z",
     "iopub.status.busy": "2023-12-03T03:59:29.207937Z",
     "iopub.status.idle": "2023-12-03T03:59:29.404226Z",
     "shell.execute_reply": "2023-12-03T03:59:29.403227Z"
    },
    "papermill": {
     "duration": 0.218679,
     "end_time": "2023-12-03T03:59:29.406441",
     "exception": false,
     "start_time": "2023-12-03T03:59:29.187762",
     "status": "completed"
    },
    "tags": []
   },
   "outputs": [
    {
     "data": {
      "image/png": "[encoded data removed]",
      "text/plain": [
       "<Figure size 600x400 with 1 Axes>"
      ]
     },
     "metadata": {},
     "output_type": "display_data"
    }
   ],
   "source": [
    "conf_matrix=confusion_matrix(Y_test,predict_test_data)\n",
    "plt.figure(figsize=(6,4))\n",
    "sns.heatmap(conf_matrix,annot=True,fmt=\"d\",cmap=\"Oranges\",cbar=False)\n",
    "plt.xlabel(\"Predicted value\")\n",
    "plt.ylabel(\"Actual value\")\n",
    "plt.title(\"Confusion Matrix\")\n",
    "plt.show()"
   ]
  },
  {
   "cell_type": "markdown",
   "id": "a78c26c6",
   "metadata": {
    "papermill": {
     "duration": 0.020079,
     "end_time": "2023-12-03T03:59:29.446086",
     "exception": false,
     "start_time": "2023-12-03T03:59:29.426007",
     "status": "completed"
    },
    "tags": []
   },
   "source": [
    "**Random Forest Clasifier**"
   ]
  },
  {
   "cell_type": "code",
   "execution_count": 33,
   "id": "777e2432",
   "metadata": {
    "execution": {
     "iopub.execute_input": "2023-12-03T03:59:29.487632Z",
     "iopub.status.busy": "2023-12-03T03:59:29.487179Z",
     "iopub.status.idle": "2023-12-03T03:59:31.081353Z",
     "shell.execute_reply": "2023-12-03T03:59:31.079871Z"
    },
    "papermill": {
     "duration": 1.618061,
     "end_time": "2023-12-03T03:59:31.084040",
     "exception": false,
     "start_time": "2023-12-03T03:59:29.465979",
     "status": "completed"
    },
    "tags": []
   },
   "outputs": [
    {
     "data": {
      "text/html": [
       "<style>#sk-container-id-2 {color: black;background-color: white;}#sk-container-id-2 pre{padding: 0;}#sk-container-id-2 div.sk-toggleable {background-color: white;}#sk-container-id-2 label.sk-toggleable__label {cursor: pointer;display: block;width: 100%;margin-bottom: 0;padding: 0.3em;box-sizing: border-box;text-align: center;}#sk-container-id-2 label.sk-toggleable__label-arrow:before {content: \"▸\";float: left;margin-right: 0.25em;color: #696969;}#sk-container-id-2 label.sk-toggleable__label-arrow:hover:before {color: black;}#sk-container-id-2 div.sk-estimator:hover label.sk-toggleable__label-arrow:before {color: black;}#sk-container-id-2 div.sk-toggleable__content {max-height: 0;max-width: 0;overflow: hidden;text-align: left;background-color: #f0f8ff;}#sk-container-id-2 div.sk-toggleable__content pre {margin: 0.2em;color: black;border-radius: 0.25em;background-color: #f0f8ff;}#sk-container-id-2 input.sk-toggleable__control:checked~div.sk-toggleable__content {max-height: 200px;max-width: 100%;overflow: auto;}#sk-container-id-2 input.sk-toggleable__control:checked~label.sk-toggleable__label-arrow:before {content: \"▾\";}#sk-container-id-2 div.sk-estimator input.sk-toggleable__control:checked~label.sk-toggleable__label {background-color: #d4ebff;}#sk-container-id-2 div.sk-label input.sk-toggleable__control:checked~label.sk-toggleable__label {background-color: #d4ebff;}#sk-container-id-2 input.sk-hidden--visually {border: 0;clip: rect(1px 1px 1px 1px);clip: rect(1px, 1px, 1px, 1px);height: 1px;margin: -1px;overflow: hidden;padding: 0;position: absolute;width: 1px;}#sk-container-id-2 div.sk-estimator {font-family: monospace;background-color: #f0f8ff;border: 1px dotted black;border-radius: 0.25em;box-sizing: border-box;margin-bottom: 0.5em;}#sk-container-id-2 div.sk-estimator:hover {background-color: #d4ebff;}#sk-container-id-2 div.sk-parallel-item::after {content: \"\";width: 100%;border-bottom: 1px solid gray;flex-grow: 1;}#sk-container-id-2 div.sk-label:hover label.sk-toggleable__label {background-color: #d4ebff;}#sk-container-id-2 div.sk-serial::before {content: \"\";position: absolute;border-left: 1px solid gray;box-sizing: border-box;top: 0;bottom: 0;left: 50%;z-index: 0;}#sk-container-id-2 div.sk-serial {display: flex;flex-direction: column;align-items: center;background-color: white;padding-right: 0.2em;padding-left: 0.2em;position: relative;}#sk-container-id-2 div.sk-item {position: relative;z-index: 1;}#sk-container-id-2 div.sk-parallel {display: flex;align-items: stretch;justify-content: center;background-color: white;position: relative;}#sk-container-id-2 div.sk-item::before, #sk-container-id-2 div.sk-parallel-item::before {content: \"\";position: absolute;border-left: 1px solid gray;box-sizing: border-box;top: 0;bottom: 0;left: 50%;z-index: -1;}#sk-container-id-2 div.sk-parallel-item {display: flex;flex-direction: column;z-index: 1;position: relative;background-color: white;}#sk-container-id-2 div.sk-parallel-item:first-child::after {align-self: flex-end;width: 50%;}#sk-container-id-2 div.sk-parallel-item:last-child::after {align-self: flex-start;width: 50%;}#sk-container-id-2 div.sk-parallel-item:only-child::after {width: 0;}#sk-container-id-2 div.sk-dashed-wrapped {border: 1px dashed gray;margin: 0 0.4em 0.5em 0.4em;box-sizing: border-box;padding-bottom: 0.4em;background-color: white;}#sk-container-id-2 div.sk-label label {font-family: monospace;font-weight: bold;display: inline-block;line-height: 1.2em;}#sk-container-id-2 div.sk-label-container {text-align: center;}#sk-container-id-2 div.sk-container {/* jupyter's `normalize.less` sets `[hidden] { display: none; }` but bootstrap.min.css set `[hidden] { display: none !important; }` so we also need the `!important` here to be able to override the default hidden behavior on the sphinx rendered scikit-learn.org. See: https://github.com/scikit-learn/scikit-learn/issues/21755 */display: inline-block !important;position: relative;}#sk-container-id-2 div.sk-text-repr-fallback {display: none;}</style><div id=\"sk-container-id-2\" class=\"sk-top-container\"><div class=\"sk-text-repr-fallback\"><pre>RandomForestClassifier(random_state=42)</pre><b>In a Jupyter environment, please rerun this cell to show the HTML representation or trust the notebook. <br />On GitHub, the HTML representation is unable to render, please try loading this page with nbviewer.org.</b></div><div class=\"sk-container\" hidden><div class=\"sk-item\"><div class=\"sk-estimator sk-toggleable\"><input class=\"sk-toggleable__control sk-hidden--visually\" id=\"sk-estimator-id-2\" type=\"checkbox\" checked><label for=\"sk-estimator-id-2\" class=\"sk-toggleable__label sk-toggleable__label-arrow\">RandomForestClassifier</label><div class=\"sk-toggleable__content\"><pre>RandomForestClassifier(random_state=42)</pre></div></div></div></div></div>"
      ],
      "text/plain": [
       "RandomForestClassifier(random_state=42)"
      ]
     },
     "execution_count": 33,
     "metadata": {},
     "output_type": "execute_result"
    }
   ],
   "source": [
    "random_forest = RandomForestClassifier(n_estimators=100, random_state=42)\n",
    "random_forest.fit(X_train_features, Y_train)"
   ]
  },
  {
   "cell_type": "code",
   "execution_count": 34,
   "id": "7e3e77bb",
   "metadata": {
    "execution": {
     "iopub.execute_input": "2023-12-03T03:59:31.126452Z",
     "iopub.status.busy": "2023-12-03T03:59:31.125998Z",
     "iopub.status.idle": "2023-12-03T03:59:31.413063Z",
     "shell.execute_reply": "2023-12-03T03:59:31.411598Z"
    },
    "papermill": {
     "duration": 0.312449,
     "end_time": "2023-12-03T03:59:31.416184",
     "exception": false,
     "start_time": "2023-12-03T03:59:31.103735",
     "status": "completed"
    },
    "tags": []
   },
   "outputs": [],
   "source": [
    "# Predict on the training and testing set\n",
    "y_train_pred = random_forest.predict(X_train_features)\n",
    "y_test_pred = random_forest.predict(X_test_features)"
   ]
  },
  {
   "cell_type": "code",
   "execution_count": 35,
   "id": "a8dd5aa8",
   "metadata": {
    "execution": {
     "iopub.execute_input": "2023-12-03T03:59:31.459308Z",
     "iopub.status.busy": "2023-12-03T03:59:31.458849Z",
     "iopub.status.idle": "2023-12-03T03:59:31.469767Z",
     "shell.execute_reply": "2023-12-03T03:59:31.468131Z"
    },
    "papermill": {
     "duration": 0.034963,
     "end_time": "2023-12-03T03:59:31.472128",
     "exception": false,
     "start_time": "2023-12-03T03:59:31.437165",
     "status": "completed"
    },
    "tags": []
   },
   "outputs": [
    {
     "name": "stdout",
     "output_type": "stream",
     "text": [
      "Training Accuracy: 1.0000\n",
      "Testing Accuracy: 0.9812\n"
     ]
    }
   ],
   "source": [
    "# Calculate the training and testing accuracy\n",
    "train_accuracy = accuracy_score(Y_train, y_train_pred)\n",
    "test_accuracy = accuracy_score(Y_test, y_test_pred)\n",
    "\n",
    "print(f\"Training Accuracy: {train_accuracy:.4f}\")\n",
    "print(f\"Testing Accuracy: {test_accuracy:.4f}\")"
   ]
  },
  {
   "cell_type": "code",
   "execution_count": 36,
   "id": "0434df06",
   "metadata": {
    "execution": {
     "iopub.execute_input": "2023-12-03T03:59:31.513406Z",
     "iopub.status.busy": "2023-12-03T03:59:31.512988Z",
     "iopub.status.idle": "2023-12-03T03:59:31.531353Z",
     "shell.execute_reply": "2023-12-03T03:59:31.529674Z"
    },
    "papermill": {
     "duration": 0.042398,
     "end_time": "2023-12-03T03:59:31.534173",
     "exception": false,
     "start_time": "2023-12-03T03:59:31.491775",
     "status": "completed"
    },
    "tags": []
   },
   "outputs": [
    {
     "name": "stdout",
     "output_type": "stream",
     "text": [
      "[1]\n",
      "Ham Mail\n"
     ]
    }
   ],
   "source": [
    "new_mail=[\"Congratulations on your recent achievement! Well done.\"]\n",
    "new_data_features=feature_extraction.transform(new_mail)\n",
    "prediction=random_forest.predict(new_data_features)\n",
    "print(prediction)\n",
    "\n",
    "if(prediction[0]==1):\n",
    "    print(\"Ham Mail\")\n",
    "else:\n",
    "    print(\"Spam Mail\")"
   ]
  },
  {
   "cell_type": "code",
   "execution_count": 37,
   "id": "17a852a0",
   "metadata": {
    "execution": {
     "iopub.execute_input": "2023-12-03T03:59:31.576910Z",
     "iopub.status.busy": "2023-12-03T03:59:31.575724Z",
     "iopub.status.idle": "2023-12-03T03:59:31.768578Z",
     "shell.execute_reply": "2023-12-03T03:59:31.767278Z"
    },
    "papermill": {
     "duration": 0.216895,
     "end_time": "2023-12-03T03:59:31.771328",
     "exception": false,
     "start_time": "2023-12-03T03:59:31.554433",
     "status": "completed"
    },
    "tags": []
   },
   "outputs": [
    {
     "data": {
      "image/png": "[encoded data removed]",
      "text/plain": [
       "<Figure size 600x400 with 1 Axes>"
      ]
     },
     "metadata": {},
     "output_type": "display_data"
    }
   ],
   "source": [
    "conf_matrix=confusion_matrix(Y_test, y_test_pred)\n",
    "plt.figure(figsize=(6,4))\n",
    "sns.heatmap(conf_matrix,annot=True,fmt=\"d\",cmap=\"Oranges\",cbar=False)\n",
    "plt.xlabel(\"Predicted value\")\n",
    "plt.ylabel(\"Actual value\")\n",
    "plt.title(\"Confusion Matrix\")\n",
    "plt.show()"
   ]
  },
  {
   "cell_type": "markdown",
   "id": "a8868e18",
   "metadata": {
    "papermill": {
     "duration": 0.019861,
     "end_time": "2023-12-03T03:59:31.812042",
     "exception": false,
     "start_time": "2023-12-03T03:59:31.792181",
     "status": "completed"
    },
    "tags": []
   },
   "source": [
    "**Support Vector Classifier**"
   ]
  },
  {
   "cell_type": "code",
   "execution_count": 38,
   "id": "242bc98d",
   "metadata": {
    "execution": {
     "iopub.execute_input": "2023-12-03T03:59:31.854813Z",
     "iopub.status.busy": "2023-12-03T03:59:31.854400Z",
     "iopub.status.idle": "2023-12-03T03:59:32.419439Z",
     "shell.execute_reply": "2023-12-03T03:59:32.418109Z"
    },
    "papermill": {
     "duration": 0.589824,
     "end_time": "2023-12-03T03:59:32.422127",
     "exception": false,
     "start_time": "2023-12-03T03:59:31.832303",
     "status": "completed"
    },
    "tags": []
   },
   "outputs": [
    {
     "data": {
      "text/html": [
       "<style>#sk-container-id-3 {color: black;background-color: white;}#sk-container-id-3 pre{padding: 0;}#sk-container-id-3 div.sk-toggleable {background-color: white;}#sk-container-id-3 label.sk-toggleable__label {cursor: pointer;display: block;width: 100%;margin-bottom: 0;padding: 0.3em;box-sizing: border-box;text-align: center;}#sk-container-id-3 label.sk-toggleable__label-arrow:before {content: \"▸\";float: left;margin-right: 0.25em;color: #696969;}#sk-container-id-3 label.sk-toggleable__label-arrow:hover:before {color: black;}#sk-container-id-3 div.sk-estimator:hover label.sk-toggleable__label-arrow:before {color: black;}#sk-container-id-3 div.sk-toggleable__content {max-height: 0;max-width: 0;overflow: hidden;text-align: left;background-color: #f0f8ff;}#sk-container-id-3 div.sk-toggleable__content pre {margin: 0.2em;color: black;border-radius: 0.25em;background-color: #f0f8ff;}#sk-container-id-3 input.sk-toggleable__control:checked~div.sk-toggleable__content {max-height: 200px;max-width: 100%;overflow: auto;}#sk-container-id-3 input.sk-toggleable__control:checked~label.sk-toggleable__label-arrow:before {content: \"▾\";}#sk-container-id-3 div.sk-estimator input.sk-toggleable__control:checked~label.sk-toggleable__label {background-color: #d4ebff;}#sk-container-id-3 div.sk-label input.sk-toggleable__control:checked~label.sk-toggleable__label {background-color: #d4ebff;}#sk-container-id-3 input.sk-hidden--visually {border: 0;clip: rect(1px 1px 1px 1px);clip: rect(1px, 1px, 1px, 1px);height: 1px;margin: -1px;overflow: hidden;padding: 0;position: absolute;width: 1px;}#sk-container-id-3 div.sk-estimator {font-family: monospace;background-color: #f0f8ff;border: 1px dotted black;border-radius: 0.25em;box-sizing: border-box;margin-bottom: 0.5em;}#sk-container-id-3 div.sk-estimator:hover {background-color: #d4ebff;}#sk-container-id-3 div.sk-parallel-item::after {content: \"\";width: 100%;border-bottom: 1px solid gray;flex-grow: 1;}#sk-container-id-3 div.sk-label:hover label.sk-toggleable__label {background-color: #d4ebff;}#sk-container-id-3 div.sk-serial::before {content: \"\";position: absolute;border-left: 1px solid gray;box-sizing: border-box;top: 0;bottom: 0;left: 50%;z-index: 0;}#sk-container-id-3 div.sk-serial {display: flex;flex-direction: column;align-items: center;background-color: white;padding-right: 0.2em;padding-left: 0.2em;position: relative;}#sk-container-id-3 div.sk-item {position: relative;z-index: 1;}#sk-container-id-3 div.sk-parallel {display: flex;align-items: stretch;justify-content: center;background-color: white;position: relative;}#sk-container-id-3 div.sk-item::before, #sk-container-id-3 div.sk-parallel-item::before {content: \"\";position: absolute;border-left: 1px solid gray;box-sizing: border-box;top: 0;bottom: 0;left: 50%;z-index: -1;}#sk-container-id-3 div.sk-parallel-item {display: flex;flex-direction: column;z-index: 1;position: relative;background-color: white;}#sk-container-id-3 div.sk-parallel-item:first-child::after {align-self: flex-end;width: 50%;}#sk-container-id-3 div.sk-parallel-item:last-child::after {align-self: flex-start;width: 50%;}#sk-container-id-3 div.sk-parallel-item:only-child::after {width: 0;}#sk-container-id-3 div.sk-dashed-wrapped {border: 1px dashed gray;margin: 0 0.4em 0.5em 0.4em;box-sizing: border-box;padding-bottom: 0.4em;background-color: white;}#sk-container-id-3 div.sk-label label {font-family: monospace;font-weight: bold;display: inline-block;line-height: 1.2em;}#sk-container-id-3 div.sk-label-container {text-align: center;}#sk-container-id-3 div.sk-container {/* jupyter's `normalize.less` sets `[hidden] { display: none; }` but bootstrap.min.css set `[hidden] { display: none !important; }` so we also need the `!important` here to be able to override the default hidden behavior on the sphinx rendered scikit-learn.org. See: https://github.com/scikit-learn/scikit-learn/issues/21755 */display: inline-block !important;position: relative;}#sk-container-id-3 div.sk-text-repr-fallback {display: none;}</style><div id=\"sk-container-id-3\" class=\"sk-top-container\"><div class=\"sk-text-repr-fallback\"><pre>SVC(kernel=&#x27;linear&#x27;)</pre><b>In a Jupyter environment, please rerun this cell to show the HTML representation or trust the notebook. <br />On GitHub, the HTML representation is unable to render, please try loading this page with nbviewer.org.</b></div><div class=\"sk-container\" hidden><div class=\"sk-item\"><div class=\"sk-estimator sk-toggleable\"><input class=\"sk-toggleable__control sk-hidden--visually\" id=\"sk-estimator-id-3\" type=\"checkbox\" checked><label for=\"sk-estimator-id-3\" class=\"sk-toggleable__label sk-toggleable__label-arrow\">SVC</label><div class=\"sk-toggleable__content\"><pre>SVC(kernel=&#x27;linear&#x27;)</pre></div></div></div></div></div>"
      ],
      "text/plain": [
       "SVC(kernel='linear')"
      ]
     },
     "execution_count": 38,
     "metadata": {},
     "output_type": "execute_result"
    }
   ],
   "source": [
    "Svc = SVC(kernel='linear') \n",
    "Svc.fit(X_train_features, Y_train)"
   ]
  },
  {
   "cell_type": "code",
   "execution_count": 39,
   "id": "ce7e4661",
   "metadata": {
    "execution": {
     "iopub.execute_input": "2023-12-03T03:59:32.466019Z",
     "iopub.status.busy": "2023-12-03T03:59:32.465619Z",
     "iopub.status.idle": "2023-12-03T03:59:32.884518Z",
     "shell.execute_reply": "2023-12-03T03:59:32.883198Z"
    },
    "papermill": {
     "duration": 0.443694,
     "end_time": "2023-12-03T03:59:32.887483",
     "exception": false,
     "start_time": "2023-12-03T03:59:32.443789",
     "status": "completed"
    },
    "tags": []
   },
   "outputs": [
    {
     "name": "stdout",
     "output_type": "stream",
     "text": [
      "Training Accuracy: 0.9962\n"
     ]
    }
   ],
   "source": [
    "# Predict on the training set\n",
    "train_predictions = Svc.predict(X_train_features)\n",
    "train_accuracy = accuracy_score(Y_train, train_predictions)\n",
    "print(f\"Training Accuracy: {train_accuracy:.4f}\")\n",
    "\n"
   ]
  },
  {
   "cell_type": "code",
   "execution_count": 40,
   "id": "2708441e",
   "metadata": {
    "execution": {
     "iopub.execute_input": "2023-12-03T03:59:32.931162Z",
     "iopub.status.busy": "2023-12-03T03:59:32.930685Z",
     "iopub.status.idle": "2023-12-03T03:59:33.036554Z",
     "shell.execute_reply": "2023-12-03T03:59:33.035615Z"
    },
    "papermill": {
     "duration": 0.130759,
     "end_time": "2023-12-03T03:59:33.039157",
     "exception": false,
     "start_time": "2023-12-03T03:59:32.908398",
     "status": "completed"
    },
    "tags": []
   },
   "outputs": [
    {
     "name": "stdout",
     "output_type": "stream",
     "text": [
      "Testing Accuracy: 0.9839\n"
     ]
    }
   ],
   "source": [
    "# Predict on the testing set\n",
    "test_predictions = Svc.predict(X_test_features)\n",
    "test_accuracy = accuracy_score(Y_test, test_predictions)\n",
    "print(f\"Testing Accuracy: {test_accuracy:.4f}\")"
   ]
  },
  {
   "cell_type": "code",
   "execution_count": 41,
   "id": "658ae75c",
   "metadata": {
    "execution": {
     "iopub.execute_input": "2023-12-03T03:59:33.083240Z",
     "iopub.status.busy": "2023-12-03T03:59:33.082859Z",
     "iopub.status.idle": "2023-12-03T03:59:33.092933Z",
     "shell.execute_reply": "2023-12-03T03:59:33.091415Z"
    },
    "papermill": {
     "duration": 0.035414,
     "end_time": "2023-12-03T03:59:33.095365",
     "exception": false,
     "start_time": "2023-12-03T03:59:33.059951",
     "status": "completed"
    },
    "tags": []
   },
   "outputs": [
    {
     "name": "stdout",
     "output_type": "stream",
     "text": [
      "[1]\n",
      "Ham Mail\n"
     ]
    }
   ],
   "source": [
    "new_mail=[\"Congratulations on your recent achievement! Well done.\"]\n",
    "new_data_features=feature_extraction.transform(new_mail)\n",
    "prediction=Svc.predict(new_data_features)\n",
    "print(prediction)\n",
    "\n",
    "if(prediction[0]==1):\n",
    "    print(\"Ham Mail\")\n",
    "else:\n",
    "    print(\"Spam Mail\")"
   ]
  },
  {
   "cell_type": "code",
   "execution_count": 42,
   "id": "ee34595d",
   "metadata": {
    "execution": {
     "iopub.execute_input": "2023-12-03T03:59:33.138587Z",
     "iopub.status.busy": "2023-12-03T03:59:33.138149Z",
     "iopub.status.idle": "2023-12-03T03:59:33.444209Z",
     "shell.execute_reply": "2023-12-03T03:59:33.443014Z"
    },
    "papermill": {
     "duration": 0.330991,
     "end_time": "2023-12-03T03:59:33.447195",
     "exception": false,
     "start_time": "2023-12-03T03:59:33.116204",
     "status": "completed"
    },
    "tags": []
   },
   "outputs": [
    {
     "data": {
      "image/png": "[encoded data removed]",
      "text/plain": [
       "<Figure size 600x400 with 1 Axes>"
      ]
     },
     "metadata": {},
     "output_type": "display_data"
    }
   ],
   "source": [
    "conf_matrix=confusion_matrix(Y_test,test_predictions)\n",
    "plt.figure(figsize=(6,4))\n",
    "sns.heatmap(conf_matrix,annot=True,fmt=\"d\",cmap=\"Oranges\",cbar=False)\n",
    "plt.xlabel(\"Predicted value\")\n",
    "plt.ylabel(\"Actual value\")\n",
    "plt.title(\"Confusion Matrix\")\n",
    "plt.show()"
   ]
  }
 ],
 "metadata": {
  "kaggle": {
   "accelerator": "none",
   "dataSources": [
    {
     "datasetId": 483,
     "sourceId": 982,
     "sourceType": "datasetVersion"
    }
   ],
   "dockerImageVersionId": 30587,
   "isGpuEnabled": false,
   "isInternetEnabled": true,
   "language": "python",
   "sourceType": "notebook"
  },
  "kernelspec": {
   "display_name": "Python 3",
   "language": "python",
   "name": "python3"
  },
  "language_info": {
   "codemirror_mode": {
    "name": "ipython",
    "version": 3
   },
   "file_extension": ".py",
   "mimetype": "text/x-python",
   "name": "python",
   "nbconvert_exporter": "python",
   "pygments_lexer": "ipython3",
   "version": "3.10.12"
  },
  "papermill": {
   "default_parameters": {},
   "duration": 14.621827,
   "end_time": "2023-12-03T03:59:34.492089",
   "environment_variables": {},
   "exception": null,
   "input_path": "__notebook__.ipynb",
   "output_path": "__notebook__.ipynb",
   "parameters": {},
   "start_time": "2023-12-03T03:59:19.870262",
   "version": "2.4.0"
  }
 },
 "nbformat": 4,
 "nbformat_minor": 5
}
